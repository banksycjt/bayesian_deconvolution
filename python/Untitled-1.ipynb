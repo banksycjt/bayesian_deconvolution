{
 "cells": [
  {
   "cell_type": "code",
   "execution_count": 4,
   "metadata": {},
   "outputs": [
    {
     "name": "stdout",
     "output_type": "stream",
     "text": [
      "12\n"
     ]
    }
   ],
   "source": [
    "import multiprocessing\n",
    "n_cpu = multiprocessing.cpu_count()\n",
    "print(n_cpu)"
   ]
  },
  {
   "cell_type": "code",
   "execution_count": 11,
   "metadata": {},
   "outputs": [
    {
     "name": "stdout",
     "output_type": "stream",
     "text": [
      "[[ 0  7 12]\n",
      " [15 16 15]\n",
      " [12  7  0]]\n",
      "[[1.1 1.1 1.1]\n",
      " [1.1 1.1 1.1]\n",
      " [1.1 1.1 1.1]]\n"
     ]
    }
   ],
   "source": [
    "import numpy as np\n",
    "\n",
    "a = [[0, 1, 2], [3, 4, 5], [6, 7, 8]]\n",
    "b = [[8, 7, 6], [5, 4, 3], [2, 1, 0]]\n",
    "a = np.array(a)\n",
    "b = np.array(b)\n",
    "print(b*a)\n",
    "print(np.ones((3,3))*1.1)"
   ]
  },
  {
   "cell_type": "code",
   "execution_count": 9,
   "metadata": {},
   "outputs": [
    {
     "name": "stdout",
     "output_type": "stream",
     "text": [
      "<class 'numpy.ndarray'>\n",
      "<class 'numpy.uint8'>\n"
     ]
    }
   ],
   "source": [
    "import numpy as np\n",
    "import cv2\n",
    "\n",
    "a = cv2.imread('raw_image.tif')\n",
    "b = np.uint8(255)\n",
    "print(type(a))\n",
    "print(type(b))"
   ]
  },
  {
   "cell_type": "code",
   "execution_count": 2,
   "metadata": {},
   "outputs": [
    {
     "name": "stdout",
     "output_type": "stream",
     "text": [
      "10\n"
     ]
    }
   ],
   "source": [
    "import numpy as np\n",
    "i = range(10)\n",
    "print(np.size(i))"
   ]
  },
  {
   "cell_type": "code",
   "execution_count": null,
   "metadata": {},
   "outputs": [
    {
     "name": "stdout",
     "output_type": "stream",
     "text": [
      "[]\n"
     ]
    }
   ],
   "source": [
    "import numpy as np\n",
    "i = [1, 2, 3, 4, 5, 6, 7, 8, 9, 10]\n",
    "print(i[-6:-1])"
   ]
  },
  {
   "cell_type": "code",
   "execution_count": 61,
   "metadata": {},
   "outputs": [
    {
     "name": "stdout",
     "output_type": "stream",
     "text": [
      "[]\n"
     ]
    }
   ],
   "source": [
    "import numpy as np\n",
    "i = list(range(1,31))\n",
    "print(i[10:20:-1])"
   ]
  },
  {
   "cell_type": "code",
   "execution_count": 2,
   "metadata": {},
   "outputs": [
    {
     "name": "stdout",
     "output_type": "stream",
     "text": [
      "[[1. 2.]\n",
      " [3. 4.]]\n"
     ]
    }
   ],
   "source": [
    "import numpy as np\n",
    "a = [[1-1j,2-1j],[3-1j,4-1j]]\n",
    "a = np.array(a)\n",
    "print(a.real)"
   ]
  },
  {
   "cell_type": "code",
   "execution_count": null,
   "metadata": {},
   "outputs": [],
   "source": [
    "import psf\n",
    "import math\n",
    "import numpy as np\n",
    "from numpy.fft import fft, ifft, fftshift, ifftshift\n",
    "\n",
    "physical_pixel_size = 6.5/100\n",
    "dx = physical_pixel_size\n",
    "light_wavelength = 0.660\n",
    "numerical_aperture = 1.3\n",
    "abbe_diffraction_limit = light_wavelength/(2*numerical_aperture)\n",
    "padding_size = 4*math.ceil(abbe_diffraction_limit/physical_pixel_size)\n",
    "raw_image_size_x = 512\n",
    "raw_image_size_y = 512\n",
    "\n",
    "psf_type = \"airy_disk\"\n",
    "\n",
    "grid_physical_1D_x = dx * np.arange(-(raw_image_size_x/2 + padding_size),(raw_image_size_x/2 + padding_size)) # in micrometers\n",
    "grid_physical_1D_y = dx * np.arange(-(raw_image_size_y/2 + padding_size),(raw_image_size_y/2 + padding_size)) # in micrometers\n",
    "\n",
    "grid_physical_length_x = (raw_image_size_x + 2*padding_size - 1)*dx\t\t\t\n",
    "grid_physical_length_y = (raw_image_size_y + 2*padding_size - 1)*dx\n",
    "\n",
    "df_x = 1/(grid_physical_length_x) # Physcially correct spacing in spatial frequency space in units of micrometer^-1 \n",
    "df_y = 1/(grid_physical_length_y) # Physcially correct spacing in spatial frequency space in units of micrometer^-1\n",
    "\n",
    "f_corrected_grid_1D_x = df_x * np.arange(-(raw_image_size_x/2 + padding_size),(raw_image_size_x/2 + padding_size)) # in units of micrometer^-1\n",
    "f_corrected_grid_1D_y = df_y * np.arange(-(raw_image_size_y/2 + padding_size),(raw_image_size_y/2 + padding_size)) # in units of micrometer^-1\n",
    "\n",
    "mtf_on_grid = np.zeros((raw_image_size_x+2*padding_size, raw_image_size_y+2*padding_size))\n",
    "psf_on_grid = np.zeros((raw_image_size_x+2*padding_size, raw_image_size_y+2*padding_size))\n",
    "\n",
    "if psf_type == \"airy_disk\":\n",
    "        \n",
    "        for j in range(raw_image_size_y + 2*padding_size):\n",
    "            for i in range(raw_image_size_y + 2*padding_size):\n",
    "                x_e = [grid_physical_1D_x[i], grid_physical_1D_y[j]]\n",
    "                psf_on_grid[i, j] =  psf.incoherent_PSF_airy_disk([0.0, 0.0], x_e, light_wavelength, numerical_aperture)\n",
    " \t\t\n",
    "        normalization = np.sum(psf_on_grid) * dx^2\n",
    "        psf_on_grid = psf_on_grid / normalization\n",
    "        intermediate_img = fftshift(fft(ifftshift(psf_on_grid)))\n",
    "\n",
    "        for j in range(raw_image_size_y + 2*padding_size):\n",
    "            for i in range(raw_image_size_x + 2*padding_size):\n",
    "                mtf_on_grid[i, j] = psf.MTF_air_disk([f_corrected_grid_1D_x[i], f_corrected_grid_1D_y[j]], light_wavelength, numerical_aperture)\n",
    "                if mtf_on_grid[i, j] == 0.0:\n",
    "                    intermediate_img[i, j] = 0.0 * intermediate_img[i, j]\n",
    "\n",
    "        FFT_point_spread_function = ifftshift(intermediate_img)\n"
   ]
  },
  {
   "cell_type": "code",
   "execution_count": 20,
   "metadata": {},
   "outputs": [
    {
     "ename": "TypeError",
     "evalue": "ufunc 'bitwise_xor' not supported for the input types, and the inputs could not be safely coerced to any supported types according to the casting rule ''safe''",
     "output_type": "error",
     "traceback": [
      "\u001b[1;31m---------------------------------------------------------------------------\u001b[0m",
      "\u001b[1;31mTypeError\u001b[0m                                 Traceback (most recent call last)",
      "Cell \u001b[1;32mIn[20], line 14\u001b[0m\n\u001b[0;32m     12\u001b[0m \u001b[38;5;28;01mfor\u001b[39;00m i \u001b[38;5;129;01min\u001b[39;00m \u001b[38;5;28mrange\u001b[39m(raw_image_size_y \u001b[38;5;241m+\u001b[39m \u001b[38;5;241m2\u001b[39m\u001b[38;5;241m*\u001b[39mpadding_size):\n\u001b[0;32m     13\u001b[0m     x_e \u001b[38;5;241m=\u001b[39m [grid_physical_1D_x[i], grid_physical_1D_y[j]]\n\u001b[1;32m---> 14\u001b[0m     psf_on_grid[i, j] \u001b[38;5;241m=\u001b[39m  \u001b[43mpsf\u001b[49m\u001b[38;5;241;43m.\u001b[39;49m\u001b[43mincoherent_PSF_airy_disk\u001b[49m\u001b[43m(\u001b[49m\u001b[43m[\u001b[49m\u001b[38;5;241;43m0.0\u001b[39;49m\u001b[43m,\u001b[49m\u001b[43m \u001b[49m\u001b[38;5;241;43m0.0\u001b[39;49m\u001b[43m]\u001b[49m\u001b[43m,\u001b[49m\u001b[43m \u001b[49m\u001b[43mx_e\u001b[49m\u001b[43m,\u001b[49m\u001b[43m \u001b[49m\u001b[43mlight_wavelength\u001b[49m\u001b[43m,\u001b[49m\u001b[43m \u001b[49m\u001b[43mnumerical_aperture\u001b[49m\u001b[43m)\u001b[49m\n",
      "File \u001b[1;32me:\\banksycjt_git\\bayesian_deconvolution\\python\\psf.py:71\u001b[0m, in \u001b[0;36mincoherent_PSF_airy_disk\u001b[1;34m(x_c, x_e, light_wavelength, numerical_aperture)\u001b[0m\n\u001b[0;32m     69\u001b[0m \u001b[38;5;28;01mdef\u001b[39;00m\u001b[38;5;250m \u001b[39m\u001b[38;5;21mincoherent_PSF_airy_disk\u001b[39m(x_c, x_e, light_wavelength, numerical_aperture):\n\u001b[0;32m     70\u001b[0m     x_c \u001b[38;5;241m=\u001b[39m np\u001b[38;5;241m.\u001b[39marray(x_c)\n\u001b[1;32m---> 71\u001b[0m     x_e \u001b[38;5;241m=\u001b[39m np\u001b[38;5;241m.\u001b[39marray(x_e)\n\u001b[0;32m     72\u001b[0m     f_number \u001b[38;5;241m=\u001b[39m \u001b[38;5;241m1\u001b[39m\u001b[38;5;241m/\u001b[39m(\u001b[38;5;241m2\u001b[39m\u001b[38;5;241m*\u001b[39mnumerical_aperture) \u001b[38;5;66;03m##approx\u001b[39;00m\n\u001b[0;32m     73\u001b[0m     \u001b[38;5;28;01mreturn\u001b[39;00m (jinc(np\u001b[38;5;241m.\u001b[39mlinalg\u001b[38;5;241m.\u001b[39mnorm(x_c \u001b[38;5;241m-\u001b[39m x_e)\u001b[38;5;241m/\u001b[39m(light_wavelength\u001b[38;5;241m*\u001b[39mf_number)))\u001b[38;5;241m*\u001b[39m\u001b[38;5;241m*\u001b[39m\u001b[38;5;241m2\u001b[39m\n",
      "\u001b[1;31mTypeError\u001b[0m: ufunc 'bitwise_xor' not supported for the input types, and the inputs could not be safely coerced to any supported types according to the casting rule ''safe''"
     ]
    }
   ],
   "source": [
    "import psf\n",
    "\n",
    "raw_image_size_x = 16\n",
    "raw_image_size_y = 16\n",
    "padding_size = 4\n",
    "light_wavelength = 0.660\n",
    "numerical_aperture = 1.3\n",
    "grid_physical_1D_x = np.arange(-(raw_image_size_x/2 + padding_size),(raw_image_size_x/2 + padding_size)) # in micrometers\n",
    "grid_physical_1D_y = np.arange(-(raw_image_size_y/2 + padding_size),(raw_image_size_y/2 + padding_size)) # in micrometers\n",
    "\n",
    "for j in range(raw_image_size_y + 2*padding_size):\n",
    "    for i in range(raw_image_size_y + 2*padding_size):\n",
    "        x_e = [grid_physical_1D_x[i], grid_physical_1D_y[j]]\n",
    "        psf_on_grid[i, j] =  psf.incoherent_PSF_airy_disk([0.0, 0.0], x_e, light_wavelength, numerical_aperture)"
   ]
  },
  {
   "cell_type": "code",
   "execution_count": 14,
   "metadata": {},
   "outputs": [],
   "source": [
    "a= 2**3"
   ]
  },
  {
   "cell_type": "code",
   "execution_count": 63,
   "metadata": {},
   "outputs": [
    {
     "name": "stdout",
     "output_type": "stream",
     "text": [
      "[[7 8 9]\n",
      " [4 5 6]\n",
      " [1 2 3]]\n",
      "[[81 80 79 78 77 76 75 74 73]\n",
      " [72 71 70 69 68 67 66 65 64]\n",
      " [63 62 61 60 59 58 57 56 55]\n",
      " [54 53 52 51 50 49 48 47 46]\n",
      " [45 44 43 42 41 40 39 38 37]\n",
      " [36 35 34 33 32 31 30 29 28]\n",
      " [27 26 25 24 23 22 21 20 19]\n",
      " [18 17 16 15 14 13 12 11 10]\n",
      " [ 9  8  7  6  5  4  3  2  1]]\n"
     ]
    }
   ],
   "source": [
    "import numpy as np\n",
    "i = nested_list = [[i * 9 + j + 1 for j in range(9)] for i in range(9)]\n",
    "i = np.array(i)\n",
    "j = [[1,2,3],[4,5,6],[7,8,9]]\n",
    "j = np.array(j)\n",
    "print(np.flip(j, axis=0))\n",
    "print(i[::-1,::-1])"
   ]
  },
  {
   "cell_type": "code",
   "execution_count": 14,
   "metadata": {},
   "outputs": [
    {
     "name": "stdout",
     "output_type": "stream",
     "text": [
      "20\n"
     ]
    }
   ],
   "source": [
    "import multiprocessing\n",
    "n_cpu = multiprocessing.cpu_count()\n",
    "print(n_cpu)"
   ]
  },
  {
   "cell_type": "code",
   "execution_count": 17,
   "metadata": {},
   "outputs": [
    {
     "name": "stdout",
     "output_type": "stream",
     "text": [
      "[-16 -15 -14 -13 -12 -11 -10  -9  -8  -7  -6  -5  -4  -3  -2  -1   0   1\n",
      "   2   3   4   5   6   7   8   9  10  11  12  13  14  15]\n"
     ]
    }
   ],
   "source": [
    "import numpy as np\n",
    "print(np.arange(-16,16))"
   ]
  }
 ],
 "metadata": {
  "kernelspec": {
   "display_name": "Python 3",
   "language": "python",
   "name": "python3"
  },
  "language_info": {
   "codemirror_mode": {
    "name": "ipython",
    "version": 3
   },
   "file_extension": ".py",
   "mimetype": "text/x-python",
   "name": "python",
   "nbconvert_exporter": "python",
   "pygments_lexer": "ipython3",
   "version": "3.11.9"
  }
 },
 "nbformat": 4,
 "nbformat_minor": 2
}
