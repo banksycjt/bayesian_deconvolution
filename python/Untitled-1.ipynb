{
 "cells": [
  {
   "cell_type": "code",
   "execution_count": 4,
   "metadata": {},
   "outputs": [
    {
     "name": "stdout",
     "output_type": "stream",
     "text": [
      "12\n"
     ]
    }
   ],
   "source": [
    "import multiprocessing\n",
    "n_cpu = multiprocessing.cpu_count()\n",
    "print(n_cpu)"
   ]
  },
  {
   "cell_type": "code",
   "execution_count": 11,
   "metadata": {},
   "outputs": [
    {
     "name": "stdout",
     "output_type": "stream",
     "text": [
      "[[ 0  7 12]\n",
      " [15 16 15]\n",
      " [12  7  0]]\n",
      "[[1.1 1.1 1.1]\n",
      " [1.1 1.1 1.1]\n",
      " [1.1 1.1 1.1]]\n"
     ]
    }
   ],
   "source": [
    "import numpy as np\n",
    "\n",
    "a = [[0, 1, 2], [3, 4, 5], [6, 7, 8]]\n",
    "b = [[8, 7, 6], [5, 4, 3], [2, 1, 0]]\n",
    "a = np.array(a)\n",
    "b = np.array(b)\n",
    "print(b*a)\n",
    "print(np.ones((3,3))*1.1)"
   ]
  },
  {
   "cell_type": "code",
   "execution_count": 9,
   "metadata": {},
   "outputs": [
    {
     "name": "stdout",
     "output_type": "stream",
     "text": [
      "<class 'numpy.ndarray'>\n",
      "<class 'numpy.uint8'>\n"
     ]
    }
   ],
   "source": [
    "import numpy as np\n",
    "import cv2\n",
    "\n",
    "a = cv2.imread('raw_image.tif')\n",
    "b = np.uint8(255)\n",
    "print(type(a))\n",
    "print(type(b))"
   ]
  },
  {
   "cell_type": "code",
   "execution_count": 2,
   "metadata": {},
   "outputs": [
    {
     "name": "stdout",
     "output_type": "stream",
     "text": [
      "10\n"
     ]
    }
   ],
   "source": [
    "import numpy as np\n",
    "i = range(10)\n",
    "print(np.size(i))"
   ]
  },
  {
   "cell_type": "code",
   "execution_count": null,
   "metadata": {},
   "outputs": [
    {
     "name": "stdout",
     "output_type": "stream",
     "text": [
      "[]\n"
     ]
    }
   ],
   "source": [
    "import numpy as np\n",
    "i = [1, 2, 3, 4, 5, 6, 7, 8, 9, 10]\n",
    "print(i[-6:-1])"
   ]
  },
  {
   "cell_type": "code",
   "execution_count": 61,
   "metadata": {},
   "outputs": [
    {
     "name": "stdout",
     "output_type": "stream",
     "text": [
      "[]\n"
     ]
    }
   ],
   "source": [
    "import numpy as np\n",
    "i = list(range(1,31))\n",
    "print(i[10:20:-1])"
   ]
  },
  {
   "cell_type": "code",
   "execution_count": 63,
   "metadata": {},
   "outputs": [
    {
     "name": "stdout",
     "output_type": "stream",
     "text": [
      "[[7 8 9]\n",
      " [4 5 6]\n",
      " [1 2 3]]\n",
      "[[81 80 79 78 77 76 75 74 73]\n",
      " [72 71 70 69 68 67 66 65 64]\n",
      " [63 62 61 60 59 58 57 56 55]\n",
      " [54 53 52 51 50 49 48 47 46]\n",
      " [45 44 43 42 41 40 39 38 37]\n",
      " [36 35 34 33 32 31 30 29 28]\n",
      " [27 26 25 24 23 22 21 20 19]\n",
      " [18 17 16 15 14 13 12 11 10]\n",
      " [ 9  8  7  6  5  4  3  2  1]]\n"
     ]
    }
   ],
   "source": [
    "import numpy as np\n",
    "i = nested_list = [[i * 9 + j + 1 for j in range(9)] for i in range(9)]\n",
    "i = np.array(i)\n",
    "j = [[1,2,3],[4,5,6],[7,8,9]]\n",
    "j = np.array(j)\n",
    "print(np.flip(j, axis=0))\n",
    "print(i[::-1,::-1])"
   ]
  },
  {
   "cell_type": "code",
   "execution_count": 14,
   "metadata": {},
   "outputs": [
    {
     "name": "stdout",
     "output_type": "stream",
     "text": [
      "20\n"
     ]
    }
   ],
   "source": [
    "import multiprocessing\n",
    "n_cpu = multiprocessing.cpu_count()\n",
    "print(n_cpu)"
   ]
  },
  {
   "cell_type": "code",
   "execution_count": 17,
   "metadata": {},
   "outputs": [
    {
     "name": "stdout",
     "output_type": "stream",
     "text": [
      "[-16 -15 -14 -13 -12 -11 -10  -9  -8  -7  -6  -5  -4  -3  -2  -1   0   1\n",
      "   2   3   4   5   6   7   8   9  10  11  12  13  14  15]\n"
     ]
    }
   ],
   "source": [
    "import numpy as np\n",
    "print(np.arange(-16,16))"
   ]
  },
  {
   "cell_type": "code",
   "execution_count": 19,
   "metadata": {},
   "outputs": [
    {
     "name": "stdout",
     "output_type": "stream",
     "text": [
      "0\n",
      "1\n",
      "2\n",
      "3\n",
      "4\n",
      "5\n",
      "6\n",
      "7\n",
      "8\n",
      "9\n"
     ]
    }
   ],
   "source": [
    "i = range(10)\n",
    "\n",
    "for i in range(10):\n",
    "    print(i) "
   ]
  }
 ],
 "metadata": {
  "kernelspec": {
   "display_name": "Python 3",
   "language": "python",
   "name": "python3"
  },
  "language_info": {
   "codemirror_mode": {
    "name": "ipython",
    "version": 3
   },
   "file_extension": ".py",
   "mimetype": "text/x-python",
   "name": "python",
   "nbconvert_exporter": "python",
   "pygments_lexer": "ipython3",
   "version": "3.11.9"
  }
 },
 "nbformat": 4,
 "nbformat_minor": 2
}
